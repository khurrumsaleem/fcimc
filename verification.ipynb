{
 "cells": [
  {
   "cell_type": "markdown",
   "metadata": {},
   "source": [
    "# Verification of FCIMC\n",
    "\n",
    "Verification against the original Fleck and Cummings (1971) results (shown on the left) of both a Fortran (middle) and a Python (right) implementation of the IMC scheme described therein."
   ]
  },
  {
   "cell_type": "markdown",
   "metadata": {},
   "source": [
    "<table><tr><td><img src=\"fig2.png\" width=\"700\"></td><td><img src=\"fortran/calcs/fig2.png\"></td><td><img src=\"python/calcs/fig2.png\"></td></tr></table>"
   ]
  },
  {
   "cell_type": "markdown",
   "metadata": {},
   "source": [
    "<table><tr><td><img src=\"fig3.png\" width=\"700\"></td><td><img src=\"fortran/calcs/fig3.png\"></td><td><img src=\"python/calcs/fig3.png\"></td></tr></table>"
   ]
  },
  {
   "cell_type": "markdown",
   "metadata": {},
   "source": [
    "<table><tr><td><img src=\"fig4.png\" width=\"700\"></td><td><img src=\"fortran/calcs/fig4.png\"></td><td><img src=\"python/calcs/fig4.png\"></td></tr></table>"
   ]
  },
  {
   "cell_type": "markdown",
   "metadata": {},
   "source": [
    "<table><tr><td><img src=\"fig5.png\" width=\"700\"></td><td><img src=\"fortran/calcs/fig5.png\"></td><td><img src=\"python/calcs/fig5.png\"></td></tr></table>"
   ]
  },
  {
   "cell_type": "markdown",
   "metadata": {},
   "source": [
    "<table><tr><td><img src=\"fig6.png\" width=\"700\"></td><td><img src=\"fortran/calcs/fig6.png\"></td><td><img src=\"python/calcs/fig6.png\"></td></tr></table>"
   ]
  },
  {
   "cell_type": "code",
   "execution_count": null,
   "metadata": {},
   "outputs": [],
   "source": []
  }
 ],
 "metadata": {
  "kernelspec": {
   "display_name": "Python 3",
   "language": "python",
   "name": "python3"
  },
  "language_info": {
   "codemirror_mode": {
    "name": "ipython",
    "version": 3
   },
   "file_extension": ".py",
   "mimetype": "text/x-python",
   "name": "python",
   "nbconvert_exporter": "python",
   "pygments_lexer": "ipython3",
   "version": "3.8.5"
  }
 },
 "nbformat": 4,
 "nbformat_minor": 4
}
